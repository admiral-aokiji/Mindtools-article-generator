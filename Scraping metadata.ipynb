{
 "cells": [
  {
   "cell_type": "code",
   "execution_count": 6,
   "id": "92e290b1",
   "metadata": {},
   "outputs": [],
   "source": [
    "from random import randint\n",
    "import time\n",
    "import json"
   ]
  },
  {
   "cell_type": "code",
   "execution_count": 2,
   "id": "7063095c",
   "metadata": {},
   "outputs": [],
   "source": [
    "from selenium import webdriver\n",
    "from selenium.webdriver.firefox.options import Options\n",
    "options = Options()\n",
    "options.headless = False\n",
    "driver = webdriver.Firefox(options=options,executable_path='C:/Program Files/Mozilla Firefox/geckodriver-v0.29.0-win64/geckodriver.exe') # Add your own path here\n",
    "driver.set_window_size(randint(800, 1080), randint(1024, 1920))\n",
    "time.sleep(2)"
   ]
  },
  {
   "cell_type": "code",
   "execution_count": 3,
   "id": "32d72d5b",
   "metadata": {},
   "outputs": [],
   "source": [
    "def getMainCategoryLinks():\n",
    "    driver.get('https://www.mindtools.com/')\n",
    "    mainList = driver.find_element_by_class_name('hp-toolkit').find_elements_by_tag_name('li')\n",
    "    mainListEls = [li.find_element_by_tag_name('a') for li in mainList]\n",
    "    mainLinks = [a.get_attribute('href')for a in mainListEls]\n",
    "    catNames = [a.find_element_by_class_name('skill-area').text for a in mainListEls]\n",
    "    final = list()\n",
    "    for link, name in zip(mainLinks,catNames):\n",
    "        g = dict()\n",
    "        g['category-name'] = name\n",
    "        g['category-link'] = link\n",
    "        g['category-content'] = list()\n",
    "        final.append(g)\n",
    "    return final"
   ]
  },
  {
   "cell_type": "code",
   "execution_count": null,
   "id": "c3a0b0d3",
   "metadata": {
    "scrolled": true
   },
   "outputs": [],
   "source": [
    "final = getMainCategoryLinks()\n",
    "with open(\"metadata/main-cats.json\", mode='w') as f:\n",
    "    f.write(json.dumps(final))"
   ]
  },
  {
   "cell_type": "code",
   "execution_count": 5,
   "id": "228ef642",
   "metadata": {},
   "outputs": [],
   "source": [
    "def getCategoryArticleLinks(cat):\n",
    "    try:\n",
    "        driver.get(cat['category-link'])\n",
    "        time.sleep(randint(40,90))\n",
    "        articleTags = driver.find_element_by_class_name('bycat').find_elements_by_class_name('collection')\n",
    "        articleCats = driver.find_element_by_class_name('bycat').find_elements_by_class_name('cat-subheader')\n",
    "        subCategories = list()\n",
    "        articleCats[-1].click() # so that the first element is clickable\n",
    "        \n",
    "        for i,el in enumerate(articleTags):\n",
    "            subCat = dict()\n",
    "            subCat['sub-category-name'] = (articleCats[i].text).split('(')[0]\n",
    "            articleCats[i].click()\n",
    "            subCat['sub-category-content'] = list()\n",
    "            for a in el.find_elements_by_tag_name('a'): \n",
    "                article = {}\n",
    "                article['link'] = a.get_attribute('href')\n",
    "                if a.find_element_by_class_name('subheading').text:\n",
    "                    article['title'] = a.find_element_by_class_name('heading').text + '- ' +  a.find_element_by_class_name('subheading').text\n",
    "                else:\n",
    "                    article['title'] = a.find_element_by_class_name('heading').text\n",
    "                print(subCat['sub-category-name'],'-',article['title'])\n",
    "                article['content'] = ''\n",
    "                subCat['sub-category-content'].append(article)\n",
    "            subCategories.append(subCat)\n",
    "            print('----------------------------------------')\n",
    "        print('Returning subcategory', cat['category-link'],'\\n')\n",
    "        with open(f\"metadata/{cat['category-name']}-sub.json\", mode='w') as f:\n",
    "            f.write(json.dumps(subCategories))\n",
    "        return subCategories\n",
    "    except Exception as e:\n",
    "        print(cat['category-name'],'Error while fetching article links', str(e))\n",
    "        return None"
   ]
  },
  {
   "cell_type": "code",
   "execution_count": null,
   "id": "f257d299",
   "metadata": {
    "scrolled": false
   },
   "outputs": [],
   "source": [
    "for cat in final:\n",
    "    subcats = getCategoryArticleLinks(cat)\n",
    "    cat['category-content']= subcats"
   ]
  }
 ],
 "metadata": {
  "kernelspec": {
   "display_name": "Python 3 (ipykernel)",
   "language": "python",
   "name": "python3"
  },
  "language_info": {
   "codemirror_mode": {
    "name": "ipython",
    "version": 3
   },
   "file_extension": ".py",
   "mimetype": "text/x-python",
   "name": "python",
   "nbconvert_exporter": "python",
   "pygments_lexer": "ipython3",
   "version": "3.9.1"
  }
 },
 "nbformat": 4,
 "nbformat_minor": 5
}
