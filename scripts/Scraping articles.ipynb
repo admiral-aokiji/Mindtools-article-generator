{
 "cells": [
  {
   "cell_type": "code",
   "execution_count": null,
   "id": "0055e1cc",
   "metadata": {},
   "outputs": [],
   "source": [
    "from bs4 import BeautifulSoup\n",
    "from random import shuffle\n",
    "import time\n",
    "import json\n",
    "import requests as r\n",
    "import html5lib\n",
    "import pdfcrowd\n",
    "import sys\n",
    "import os\n",
    "from dotenv import load_dotenv"
   ]
  },
  {
   "cell_type": "code",
   "execution_count": null,
   "id": "cd9a8b07",
   "metadata": {},
   "outputs": [],
   "source": [
    "load_dotenv()\n",
    "userid = os.getenv('USERID')\n",
    "a_id = os.getenv('A_ID')"
   ]
  },
  {
   "cell_type": "code",
   "execution_count": null,
   "id": "ec24e402",
   "metadata": {},
   "outputs": [],
   "source": [
    "with open('../metadata/Strategy Tools-sub.json', mode = 'r') as f:\n",
    "    strat = json.loads(f.read())"
   ]
  },
  {
   "cell_type": "code",
   "execution_count": null,
   "id": "116f816d",
   "metadata": {},
   "outputs": [],
   "source": [
    "def getArticle(article):\n",
    "    html = r.get(article['link'])\n",
    "    soup = BeautifulSoup(html.content, features=\"html5lib\")\n",
    "    body = '<html>' + str(soup.find('body')) + '</html>'\n",
    "\n",
    "#     delete elements that are not needed\n",
    "\n",
    "#   check for errors if title contains invalid characters w.r.t. file names\n",
    "    with open(f\"../html/Strategy Tools/{article['title']}.html\", mode = 'w',encoding='utf-8') as f:\n",
    "        f.write(body)\n",
    "\n",
    "#   return if soup.find('div', attrs = {'id':'article_content'}) exists or not\n",
    "    return soup.find('div', attrs = {'id':'article_content'}) "
   ]
  },
  {
   "cell_type": "code",
   "execution_count": null,
   "id": "fbdc6354",
   "metadata": {},
   "outputs": [],
   "source": [
    "def generatePDF(fName):\n",
    "    try:\n",
    "        inFile = f'../html/Strategy Tools/{fName}.html'\n",
    "        outFile = f'../pdf/Strategy Tools/{fName}.pdf'\n",
    "        client = pdfcrowd.HtmlToPdfClient(userid, a_id)\n",
    "        client.setPageSize('Letter')\n",
    "        client.setOrientation('landscape')\n",
    "        client.convertFileToFile(inFile, outFile)\n",
    "        print('PDF generation complete -',outFile)\n",
    "    except pdfcrowd.Error as why:\n",
    "        sys.stderr.write('Pdfcrowd Error: {}\\n'.format(why))\n",
    "        raise"
   ]
  },
  {
   "cell_type": "code",
   "execution_count": null,
   "id": "574e54ac",
   "metadata": {},
   "outputs": [],
   "source": [
    "l = strat[0]['sub-category-content'][7]['link']\n",
    "print(l)\n",
    "body = generateHTMLfile(l)"
   ]
  },
  {
   "cell_type": "code",
   "execution_count": null,
   "id": "14336763",
   "metadata": {
    "scrolled": false
   },
   "outputs": [],
   "source": [
    "for sub in strat:\n",
    "    for article in sub['sub-category-content']:\n",
    "#         check for 3 articles rule\n",
    "        stage1 = generateHTMLfile(article)\n",
    "        if stage1:\n",
    "#             check for errors if title contains invalid characters w.r.t. file names\n",
    "            generatePDF(article['title'])"
   ]
  }
 ],
 "metadata": {
  "kernelspec": {
   "display_name": "Python 3 (ipykernel)",
   "language": "python",
   "name": "python3"
  },
  "language_info": {
   "codemirror_mode": {
    "name": "ipython",
    "version": 3
   },
   "file_extension": ".py",
   "mimetype": "text/x-python",
   "name": "python",
   "nbconvert_exporter": "python",
   "pygments_lexer": "ipython3",
   "version": "3.9.1"
  }
 },
 "nbformat": 4,
 "nbformat_minor": 5
}
